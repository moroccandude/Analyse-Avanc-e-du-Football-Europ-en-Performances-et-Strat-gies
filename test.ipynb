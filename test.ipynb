{
 "cells": [
  {
   "cell_type": "code",
   "execution_count": 8,
   "metadata": {},
   "outputs": [
    {
     "ename": "OperationalError",
     "evalue": "unable to open database file",
     "output_type": "error",
     "traceback": [
      "\u001b[0;31m---------------------------------------------------------------------------\u001b[0m",
      "\u001b[0;31mOperationalError\u001b[0m                          Traceback (most recent call last)",
      "Cell \u001b[0;32mIn[8], line 5\u001b[0m\n\u001b[1;32m      1\u001b[0m \u001b[38;5;28;01mimport\u001b[39;00m \u001b[38;5;21;01mpandas\u001b[39;00m \u001b[38;5;28;01mas\u001b[39;00m \u001b[38;5;21;01mpd\u001b[39;00m  \n\u001b[1;32m      2\u001b[0m \u001b[38;5;28;01mimport\u001b[39;00m \u001b[38;5;21;01msqlite3\u001b[39;00m\n\u001b[0;32m----> 5\u001b[0m conn \u001b[38;5;241m=\u001b[39m \u001b[43msqlite3\u001b[49m\u001b[38;5;241;43m.\u001b[39;49m\u001b[43mconnect\u001b[49m\u001b[43m(\u001b[49m\u001b[38;5;124;43m\"\u001b[39;49m\u001b[38;5;124;43m/Database/database.sqlite\u001b[39;49m\u001b[38;5;124;43m\"\u001b[39;49m\u001b[43m)\u001b[49m\n\u001b[1;32m      8\u001b[0m df_teams \u001b[38;5;241m=\u001b[39m pd\u001b[38;5;241m.\u001b[39mread_sql_query(\u001b[38;5;124m\"\u001b[39m\u001b[38;5;124mSELECT * FROM team;\u001b[39m\u001b[38;5;124m\"\u001b[39m, conn)\n\u001b[1;32m      9\u001b[0m df_countries \u001b[38;5;241m=\u001b[39m pd\u001b[38;5;241m.\u001b[39mread_sql_query(\u001b[38;5;124m\"\u001b[39m\u001b[38;5;124mSELECT * FROM country;\u001b[39m\u001b[38;5;124m\"\u001b[39m, conn)\n",
      "\u001b[0;31mOperationalError\u001b[0m: unable to open database file"
     ]
    }
   ],
   "source": [
    "import pandas as pd  \n",
    "import sqlite3\n",
    "\n",
    "\n",
    "conn = sqlite3.connect(\"/Database/database.sqlite\")\n",
    "\n",
    "\n",
    "df_teams = pd.read_sql_query(\"SELECT * FROM team;\", conn)\n",
    "df_countries = pd.read_sql_query(\"SELECT * FROM country;\", conn)\n",
    "df_matchs = pd.read_sql_query(\"SELECT * FROM match;\", conn)\n",
    "df_leagues = pd.read_sql_query(\"SELECT * FROM league;\", conn)\n",
    "df_player = pd.read_sql_query(\"SELECT * FROM player;\", conn)\n",
    "df_player_attribute = pd.read_sql_query(\"SELECT * FROM Player_Attributes;\", conn)\n",
    "df_teams_attributes=pd.read_sql_query(\"select * from team_attributes;\",conn)\n"
   ]
  },
  {
   "cell_type": "markdown",
   "metadata": {},
   "source": [
    "import s"
   ]
  }
 ],
 "metadata": {
  "kernelspec": {
   "display_name": "ism",
   "language": "python",
   "name": "python3"
  },
  "language_info": {
   "codemirror_mode": {
    "name": "ipython",
    "version": 3
   },
   "file_extension": ".py",
   "mimetype": "text/x-python",
   "name": "python",
   "nbconvert_exporter": "python",
   "pygments_lexer": "ipython3",
   "version": "3.12.3"
  }
 },
 "nbformat": 4,
 "nbformat_minor": 2
}
